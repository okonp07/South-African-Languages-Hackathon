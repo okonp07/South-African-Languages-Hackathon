{
 "cells": [
  {
   "cell_type": "markdown",
   "id": "6210fc37",
   "metadata": {},
   "source": [
    "<h1 align=\"center\">EXPLORE Data Science Academy Classification Hackathon</h1>"
   ]
  },
  {
   "cell_type": "markdown",
   "id": "fa8503c6",
   "metadata": {},
   "source": [
    "\n",
    "<img src=\"https://2.bp.blogspot.com/-y3C_S4kBIZE/Vq7pCGqGM7I/AAAAAAAAv3g/_xWOkAYKyr8/s1600/SA.jpg\" width=\"1000\" alt=\"Drawing\" style=\"width: 2500px;\" align=\"center\"/>\n",
    "\n",
    "\n",
    "\n"
   ]
  },
  {
   "cell_type": "markdown",
   "id": "0478dab5",
   "metadata": {},
   "source": [
    "<h1 align=\"center\">Created by</h1>"
   ]
  },
  {
   "cell_type": "markdown",
   "id": "a3557b68",
   "metadata": {},
   "source": [
    "<h1 align=\"center\">Okon Prince</h1>"
   ]
  },
  {
   "cell_type": "markdown",
   "id": "2b97af27",
   "metadata": {},
   "source": [
    "<h1 align=\"center\">Supervisor: Mr. John Mohale</h2>"
   ]
  },
  {
   "cell_type": "markdown",
   "id": "43b46c84",
   "metadata": {},
   "source": [
    "---\n",
    "---\n",
    "<a id=\"cont\"></a>\n",
    "\n",
    "## Table of Contents\n",
    "---\n",
    "---"
   ]
  },
  {
   "cell_type": "markdown",
   "id": "bdc90ce2",
   "metadata": {},
   "source": [
    "<a href=#one>1. Predict Overview</a>\n",
    "\n",
    "<a href=#two>2. Introduction</a>\n",
    "\n",
    "<a href=#three>3. Problem Statement</a>\n",
    "\n",
    "<a href=#four>4. Aims & Objectives</a>\n",
    "\n",
    "<a href=#six>6. Importing Packages</a>\n",
    "\n",
    "<a href=#seven>7. Loading Data</a>\n",
    "\n",
    "<a href=#eight>8. Exploratory Data Analysis (EDA)</a>\n",
    "\n",
    "<a href=#nine>9. Data Engineering</a>\n",
    "\n",
    "<a href=#ten>10. Train - Test Split</a>\n",
    "\n",
    "<a href=#eleven>11. Model Building</a>\n",
    "\n",
    "<a href=#twelve>12. Model Explanation</a>\n",
    "\n",
    "<a href=#fourteen>14. Conclusion</a>"
   ]
  },
  {
   "cell_type": "markdown",
   "id": "a89ee8bd",
   "metadata": {},
   "source": []
  },
  {
   "cell_type": "markdown",
   "id": "1960e3ba",
   "metadata": {},
   "source": [
    "<a id=\"one\"></a>\n",
    "## 1. Predict Overview\n",
    "<a href=#cont>Back to Table of Contents</a>"
   ]
  },
  {
   "cell_type": "markdown",
   "id": "64019e3f",
   "metadata": {},
   "source": [
    "South Africa is a multicultural society that is characterised by its rich linguistic diversity. Language is an indispensable tool that is used for communinication. It enhances every humans social experience and also contribute to the cultural, intellectual, economic and political life of every South African.\n",
    "\n",
    "South Africa is a multilingual Nation with 11 official languages, each of which is guaranteed equal status within the constitution of that country. Most South Africans are multilingual and are able to speak at least two or more of the official languages.\n",
    "\n",
    "<img src=\"inbox_2205222_7f34544c1b1f61d1a5949bddacfd84a9_South_Africa_languages_2011 (1).jpg\" width=\"1000\" alt=\"Drawing\" style=\"width: 2500px;\" align=\"center\"/>\n",
    "\n",
    "From The South African Government"
   ]
  },
  {
   "cell_type": "markdown",
   "id": "ed134ccd",
   "metadata": {},
   "source": [
    "<a id=\"two\"></a>\n",
    "## 2. Introduction\n",
    "<a href=#cont>Back to Table of Contents</a>"
   ]
  },
  {
   "cell_type": "markdown",
   "id": "a243b46b",
   "metadata": {},
   "source": [
    "Considering the multicultural nature of the South African Population, it is very likely that their systems and devices also communicate in multiple languages so as to ensure proper representation and flexibilty of use in their soceities.\n",
    "\n",
    "In this challenge, we will be provided with text content in any of South Africa's 11 Official languages and our task will be to build a model that will identify which language the text is in. This is an example of NLP's Language Identification, the task of determining the natural language that a piece of text is written in."
   ]
  },
  {
   "cell_type": "markdown",
   "id": "36345ed4",
   "metadata": {},
   "source": [
    "<a id=\"three\"></a>\n",
    "## 3. Problem Statement \n",
    "<a href=#cont>Back to Table of Contents</a>"
   ]
  },
  {
   "cell_type": "markdown",
   "id": "64d112c2",
   "metadata": {},
   "source": [
    "**To build a model that will accurately classify any text fed into it which is written in any of South Africas 11 official languages into the proper language category that it belongs to**"
   ]
  },
  {
   "cell_type": "markdown",
   "id": "99f2ad62",
   "metadata": {},
   "source": [
    "<a id=\"four\"></a>\n",
    "## 4. Aims & Objectives\n",
    "<a href=#cont>Back to Table of Contents</a>\n"
   ]
  },
  {
   "cell_type": "markdown",
   "id": "d5a8330f",
   "metadata": {},
   "source": [
    "\n",
    "### Aims\n",
    "- The final aim of the Predict is to develop a model that will accurately classify the texts fed into it written in any of this languages to the correct language that the text belongs to.  \n",
    "\n",
    "### Specific Objectives\n",
    "- Explanatory Data Analysis of the dataset provided.\n",
    "- Data Preprocessing and Feature Engineering.\n",
    "- Applying of different Classification models.\n",
    "- Model Evaluaion and Explanation."
   ]
  },
  {
   "cell_type": "markdown",
   "id": "06d61f6a",
   "metadata": {},
   "source": [
    "<a id=\"six\"></a>\n",
    "## 6. Importing Packages\n",
    "<a href=#cont>Back to Table of Contents</a>"
   ]
  },
  {
   "cell_type": "markdown",
   "id": "29b5f6b4",
   "metadata": {},
   "source": [
    "To successfully create a model from the raw data, you need to install a host of libraries and dependencies. These are algorithms that run at the background of your jupyter notebook in order to allow the neccesary functions involved in the model building process to be successfully carried out. We will start by running the neccesary pip files and next the neccesary python libraries."
   ]
  },
  {
   "cell_type": "code",
   "execution_count": 1,
   "id": "7f9183cc",
   "metadata": {},
   "outputs": [],
   "source": [
    "# downloads\n",
    "#!pip install parfit\n",
    "#!pip install scikit-plot\n",
    "#!pip install contractions\n",
    "#!nltk.download('omw-1.4')"
   ]
  },
  {
   "cell_type": "code",
   "execution_count": null,
   "id": "3939103a",
   "metadata": {},
   "outputs": [],
   "source": [
    "# Packages for data analysis\n",
    "import pandas as pd\n",
    "import numpy as np\n",
    "import time\n",
    "\n",
    "# Packages for visualizations\n",
    "import seaborn as sns\n",
    "import matplotlib.style as style\n",
    "\n",
    "# Packages for preprocessing\n",
    "import nltk\n",
    "import string\n",
    "import re\n",
    "from textblob import TextBlob\n",
    "from sklearn.feature_extraction.text import TfidfVectorizer\n",
    "\n",
    "# Packages for training models\n",
    "from sklearn.pipeline import Pipeline\n",
    "from sklearn.linear_model import LogisticRegression, SGDClassifier\n",
    "from sklearn.naive_bayes import MultinomialNB, ComplementNB\n",
    "from sklearn.svm import LinearSVC, SVC\n",
    "from sklearn.model_selection import train_test_split\n",
    "from sklearn.model_selection import GridSearchCV, KFold, cross_val_score\n",
    "from sklearn.model_selection import RepeatedStratifiedKFold\n",
    "from sklearn.neighbors import KNeighborsClassifier\n",
    "from sklearn.tree import DecisionTreeClassifier\n",
    "from sklearn.ensemble import GradientBoostingClassifier\n",
    "from sklearn.ensemble import RandomForestClassifier\n",
    "from sklearn.neural_network import MLPClassifier\n",
    "from sklearn import metrics\n",
    "\n",
    "# Model Evaluation Packages\n",
    "from sklearn.metrics import accuracy_score, precision_score, recall_score\n",
    "from sklearn.metrics import confusion_matrix, classification_report, f1_score\n",
    "from sklearn.metrics import make_scorer\n",
    "\n",
    "import matplotlib.pyplot as plt\n",
    "%matplotlib inline\n",
    "\n",
    "# Style\n",
    "sns.set(font_scale=1.5)\n",
    "style.use(\"seaborn-pastel\")\n",
    "style.use(\"seaborn-poster\")"
   ]
  },
  {
   "cell_type": "markdown",
   "id": "eb3923a6",
   "metadata": {},
   "source": [
    "<a id=\"seven\"></a>\n",
    "## 7. Loading Data\n",
    "<a href=#cont>Back to Table of Contents</a>"
   ]
  },
  {
   "cell_type": "markdown",
   "id": "3c2b14a3",
   "metadata": {},
   "source": [
    "The first step in the model creation process is to place the train and test data into their respective data frames. the code below takes care of this process. "
   ]
  },
  {
   "cell_type": "code",
   "execution_count": 29,
   "id": "2340422a",
   "metadata": {},
   "outputs": [],
   "source": [
    "# import the raw data and set them up in independent Data Frames\n",
    "train = pd.read_csv('train_set.csv')\n",
    "test = pd.read_csv('test_set.csv')\n",
    "sample_sub = pd.read_csv('sample_submission.csv')"
   ]
  },
  {
   "cell_type": "markdown",
   "id": "3d8eadb8",
   "metadata": {},
   "source": [
    "<a id=\"eight\"></a>\n",
    "## 8. Exploratory Data Analysis (EDA)\n",
    "<a href=#cont>Back to Table of Contents</a>"
   ]
  },
  {
   "cell_type": "markdown",
   "id": "d8971457",
   "metadata": {},
   "source": [
    "Next we print out the train, test and sample_sub data frames to have a feel of what our data is actually like."
   ]
  },
  {
   "cell_type": "code",
   "execution_count": 33,
   "id": "fe404976",
   "metadata": {},
   "outputs": [
    {
     "data": {
      "text/html": [
       "<div>\n",
       "<style scoped>\n",
       "    .dataframe tbody tr th:only-of-type {\n",
       "        vertical-align: middle;\n",
       "    }\n",
       "\n",
       "    .dataframe tbody tr th {\n",
       "        vertical-align: top;\n",
       "    }\n",
       "\n",
       "    .dataframe thead th {\n",
       "        text-align: right;\n",
       "    }\n",
       "</style>\n",
       "<table border=\"1\" class=\"dataframe\">\n",
       "  <thead>\n",
       "    <tr style=\"text-align: right;\">\n",
       "      <th></th>\n",
       "      <th>lang_id</th>\n",
       "      <th>text</th>\n",
       "    </tr>\n",
       "  </thead>\n",
       "  <tbody>\n",
       "    <tr>\n",
       "      <th>0</th>\n",
       "      <td>xho</td>\n",
       "      <td>umgaqo-siseko wenza amalungiselelo kumaziko ax...</td>\n",
       "    </tr>\n",
       "    <tr>\n",
       "      <th>1</th>\n",
       "      <td>xho</td>\n",
       "      <td>i-dha iya kuba nobulumko bokubeka umsebenzi na...</td>\n",
       "    </tr>\n",
       "    <tr>\n",
       "      <th>2</th>\n",
       "      <td>eng</td>\n",
       "      <td>the province of kwazulu-natal department of tr...</td>\n",
       "    </tr>\n",
       "    <tr>\n",
       "      <th>3</th>\n",
       "      <td>nso</td>\n",
       "      <td>o netefatša gore o ba file dilo ka moka tše le...</td>\n",
       "    </tr>\n",
       "    <tr>\n",
       "      <th>4</th>\n",
       "      <td>ven</td>\n",
       "      <td>khomishini ya ndinganyiso ya mbeu yo ewa maana...</td>\n",
       "    </tr>\n",
       "  </tbody>\n",
       "</table>\n",
       "</div>"
      ],
      "text/plain": [
       "  lang_id                                               text\n",
       "0     xho  umgaqo-siseko wenza amalungiselelo kumaziko ax...\n",
       "1     xho  i-dha iya kuba nobulumko bokubeka umsebenzi na...\n",
       "2     eng  the province of kwazulu-natal department of tr...\n",
       "3     nso  o netefatša gore o ba file dilo ka moka tše le...\n",
       "4     ven  khomishini ya ndinganyiso ya mbeu yo ewa maana..."
      ]
     },
     "execution_count": 33,
     "metadata": {},
     "output_type": "execute_result"
    }
   ],
   "source": [
    "# Print out the 1st 5 rows of the train data frame\n",
    "train.head()"
   ]
  },
  {
   "cell_type": "code",
   "execution_count": 5,
   "id": "07f50d34",
   "metadata": {},
   "outputs": [
    {
     "data": {
      "text/html": [
       "<div>\n",
       "<style scoped>\n",
       "    .dataframe tbody tr th:only-of-type {\n",
       "        vertical-align: middle;\n",
       "    }\n",
       "\n",
       "    .dataframe tbody tr th {\n",
       "        vertical-align: top;\n",
       "    }\n",
       "\n",
       "    .dataframe thead th {\n",
       "        text-align: right;\n",
       "    }\n",
       "</style>\n",
       "<table border=\"1\" class=\"dataframe\">\n",
       "  <thead>\n",
       "    <tr style=\"text-align: right;\">\n",
       "      <th></th>\n",
       "      <th>index</th>\n",
       "      <th>text</th>\n",
       "    </tr>\n",
       "  </thead>\n",
       "  <tbody>\n",
       "    <tr>\n",
       "      <th>0</th>\n",
       "      <td>1</td>\n",
       "      <td>Mmasepala, fa maemo a a kgethegileng a letlele...</td>\n",
       "    </tr>\n",
       "    <tr>\n",
       "      <th>1</th>\n",
       "      <td>2</td>\n",
       "      <td>Uzakwaziswa ngokufaneleko nakungafuneka eminye...</td>\n",
       "    </tr>\n",
       "    <tr>\n",
       "      <th>2</th>\n",
       "      <td>3</td>\n",
       "      <td>Tshivhumbeo tshi fana na ngano dza vhathu.</td>\n",
       "    </tr>\n",
       "    <tr>\n",
       "      <th>3</th>\n",
       "      <td>4</td>\n",
       "      <td>Kube inja nelikati betingevakala kutsi titsini...</td>\n",
       "    </tr>\n",
       "    <tr>\n",
       "      <th>4</th>\n",
       "      <td>5</td>\n",
       "      <td>Winste op buitelandse valuta.</td>\n",
       "    </tr>\n",
       "  </tbody>\n",
       "</table>\n",
       "</div>"
      ],
      "text/plain": [
       "   index                                               text\n",
       "0      1  Mmasepala, fa maemo a a kgethegileng a letlele...\n",
       "1      2  Uzakwaziswa ngokufaneleko nakungafuneka eminye...\n",
       "2      3         Tshivhumbeo tshi fana na ngano dza vhathu.\n",
       "3      4  Kube inja nelikati betingevakala kutsi titsini...\n",
       "4      5                      Winste op buitelandse valuta."
      ]
     },
     "execution_count": 5,
     "metadata": {},
     "output_type": "execute_result"
    }
   ],
   "source": [
    "# Print out the 1st 5 rows of the test data frame\n",
    "test.head()"
   ]
  },
  {
   "cell_type": "code",
   "execution_count": 32,
   "id": "3700148d",
   "metadata": {},
   "outputs": [
    {
     "data": {
      "text/html": [
       "<div>\n",
       "<style scoped>\n",
       "    .dataframe tbody tr th:only-of-type {\n",
       "        vertical-align: middle;\n",
       "    }\n",
       "\n",
       "    .dataframe tbody tr th {\n",
       "        vertical-align: top;\n",
       "    }\n",
       "\n",
       "    .dataframe thead th {\n",
       "        text-align: right;\n",
       "    }\n",
       "</style>\n",
       "<table border=\"1\" class=\"dataframe\">\n",
       "  <thead>\n",
       "    <tr style=\"text-align: right;\">\n",
       "      <th></th>\n",
       "      <th>index</th>\n",
       "      <th>lang_id</th>\n",
       "    </tr>\n",
       "  </thead>\n",
       "  <tbody>\n",
       "    <tr>\n",
       "      <th>0</th>\n",
       "      <td>1</td>\n",
       "      <td>tsn</td>\n",
       "    </tr>\n",
       "    <tr>\n",
       "      <th>1</th>\n",
       "      <td>2</td>\n",
       "      <td>nbl</td>\n",
       "    </tr>\n",
       "  </tbody>\n",
       "</table>\n",
       "</div>"
      ],
      "text/plain": [
       "   index lang_id\n",
       "0      1     tsn\n",
       "1      2     nbl"
      ]
     },
     "execution_count": 32,
     "metadata": {},
     "output_type": "execute_result"
    }
   ],
   "source": [
    "# Print out the 1st rows of the sample_sub data frame\n",
    "sample_sub.head()"
   ]
  },
  {
   "cell_type": "code",
   "execution_count": 6,
   "id": "ebc00ad5",
   "metadata": {},
   "outputs": [
    {
     "data": {
      "text/plain": [
       "((33000, 2), (5682, 2))"
      ]
     },
     "execution_count": 6,
     "metadata": {},
     "output_type": "execute_result"
    }
   ],
   "source": [
    " # Check the number of rows and columns in the datasets\n",
    "train.shape, test.shape"
   ]
  },
  {
   "cell_type": "code",
   "execution_count": 7,
   "id": "fb98eb61",
   "metadata": {},
   "outputs": [
    {
     "data": {
      "text/plain": [
       "85.31099736311462"
      ]
     },
     "execution_count": 7,
     "metadata": {},
     "output_type": "execute_result"
    }
   ],
   "source": [
    "# Check the percentage of the data committed as the train set\n",
    "((33000) / (33000 + 5682)) * 100"
   ]
  },
  {
   "cell_type": "code",
   "execution_count": 8,
   "id": "95c04bee",
   "metadata": {},
   "outputs": [
    {
     "data": {
      "text/plain": [
       "14.689002636885373"
      ]
     },
     "execution_count": 8,
     "metadata": {},
     "output_type": "execute_result"
    }
   ],
   "source": [
    "# Check the percentage of the data committed as the train set\n",
    "((5682) / (33000 + 5682)) * 100\n"
   ]
  },
  {
   "cell_type": "code",
   "execution_count": 9,
   "id": "9b6fbe6c",
   "metadata": {},
   "outputs": [
    {
     "data": {
      "text/plain": [
       "Index(['lang_id', 'text'], dtype='object')"
      ]
     },
     "execution_count": 9,
     "metadata": {},
     "output_type": "execute_result"
    }
   ],
   "source": [
    "# Check the column names of the columns in the train data set\n",
    "train.columns"
   ]
  },
  {
   "cell_type": "code",
   "execution_count": 10,
   "id": "1ce9f2be",
   "metadata": {},
   "outputs": [
    {
     "data": {
      "text/plain": [
       "Index(['index', 'text'], dtype='object')"
      ]
     },
     "execution_count": 10,
     "metadata": {},
     "output_type": "execute_result"
    }
   ],
   "source": [
    "# Check the column names of the columns in the test data set\n",
    "test.columns"
   ]
  },
  {
   "cell_type": "code",
   "execution_count": 11,
   "id": "8b74b314",
   "metadata": {},
   "outputs": [
    {
     "data": {
      "text/plain": [
       "lang_id    object\n",
       "text       object\n",
       "dtype: object"
      ]
     },
     "execution_count": 11,
     "metadata": {},
     "output_type": "execute_result"
    }
   ],
   "source": [
    "train.dtypes"
   ]
  },
  {
   "cell_type": "code",
   "execution_count": 12,
   "id": "4d2f3fea",
   "metadata": {},
   "outputs": [
    {
     "data": {
      "text/plain": [
       "index     int64\n",
       "text     object\n",
       "dtype: object"
      ]
     },
     "execution_count": 12,
     "metadata": {},
     "output_type": "execute_result"
    }
   ],
   "source": [
    "test.dtypes"
   ]
  },
  {
   "cell_type": "code",
   "execution_count": 13,
   "id": "dd51d59f",
   "metadata": {},
   "outputs": [
    {
     "name": "stdout",
     "output_type": "stream",
     "text": [
      "<class 'pandas.core.frame.DataFrame'>\n",
      "RangeIndex: 33000 entries, 0 to 32999\n",
      "Data columns (total 2 columns):\n",
      " #   Column   Non-Null Count  Dtype \n",
      "---  ------   --------------  ----- \n",
      " 0   lang_id  33000 non-null  object\n",
      " 1   text     33000 non-null  object\n",
      "dtypes: object(2)\n",
      "memory usage: 515.8+ KB\n"
     ]
    }
   ],
   "source": [
    "#Checking if there are missing values in the Train dataset\n",
    "train.info()"
   ]
  },
  {
   "cell_type": "code",
   "execution_count": 14,
   "id": "43043548",
   "metadata": {},
   "outputs": [
    {
     "name": "stdout",
     "output_type": "stream",
     "text": [
      "<class 'pandas.core.frame.DataFrame'>\n",
      "RangeIndex: 5682 entries, 0 to 5681\n",
      "Data columns (total 2 columns):\n",
      " #   Column  Non-Null Count  Dtype \n",
      "---  ------  --------------  ----- \n",
      " 0   index   5682 non-null   int64 \n",
      " 1   text    5682 non-null   object\n",
      "dtypes: int64(1), object(1)\n",
      "memory usage: 88.9+ KB\n"
     ]
    }
   ],
   "source": [
    "#Cheching if there are missing values in the Test dataset\n",
    "test.info()"
   ]
  },
  {
   "cell_type": "code",
   "execution_count": 15,
   "id": "3ba85f96",
   "metadata": {},
   "outputs": [
    {
     "data": {
      "text/html": [
       "<div>\n",
       "<style scoped>\n",
       "    .dataframe tbody tr th:only-of-type {\n",
       "        vertical-align: middle;\n",
       "    }\n",
       "\n",
       "    .dataframe tbody tr th {\n",
       "        vertical-align: top;\n",
       "    }\n",
       "\n",
       "    .dataframe thead th {\n",
       "        text-align: right;\n",
       "    }\n",
       "</style>\n",
       "<table border=\"1\" class=\"dataframe\">\n",
       "  <thead>\n",
       "    <tr style=\"text-align: right;\">\n",
       "      <th></th>\n",
       "      <th>lang_id</th>\n",
       "      <th>text</th>\n",
       "    </tr>\n",
       "  </thead>\n",
       "  <tbody>\n",
       "    <tr>\n",
       "      <th>count</th>\n",
       "      <td>33000</td>\n",
       "      <td>33000</td>\n",
       "    </tr>\n",
       "    <tr>\n",
       "      <th>unique</th>\n",
       "      <td>11</td>\n",
       "      <td>29948</td>\n",
       "    </tr>\n",
       "    <tr>\n",
       "      <th>top</th>\n",
       "      <td>xho</td>\n",
       "      <td>ngokwesekhtjheni yomthetho ophathelene nalokhu...</td>\n",
       "    </tr>\n",
       "    <tr>\n",
       "      <th>freq</th>\n",
       "      <td>3000</td>\n",
       "      <td>17</td>\n",
       "    </tr>\n",
       "  </tbody>\n",
       "</table>\n",
       "</div>"
      ],
      "text/plain": [
       "       lang_id                                               text\n",
       "count    33000                                              33000\n",
       "unique      11                                              29948\n",
       "top        xho  ngokwesekhtjheni yomthetho ophathelene nalokhu...\n",
       "freq      3000                                                 17"
      ]
     },
     "execution_count": 15,
     "metadata": {},
     "output_type": "execute_result"
    }
   ],
   "source": [
    "# Check the summary statistics for the test and train data sets\n",
    "train.describe()"
   ]
  },
  {
   "cell_type": "markdown",
   "id": "3ce2a162",
   "metadata": {},
   "source": [
    "The summary statistics of the data tell us that there a 33,000 data points in all. There are 11 unique languages and each language class has 3,000 entries."
   ]
  },
  {
   "cell_type": "code",
   "execution_count": 16,
   "id": "a35c1065",
   "metadata": {},
   "outputs": [
    {
     "data": {
      "text/html": [
       "<div>\n",
       "<style scoped>\n",
       "    .dataframe tbody tr th:only-of-type {\n",
       "        vertical-align: middle;\n",
       "    }\n",
       "\n",
       "    .dataframe tbody tr th {\n",
       "        vertical-align: top;\n",
       "    }\n",
       "\n",
       "    .dataframe thead th {\n",
       "        text-align: right;\n",
       "    }\n",
       "</style>\n",
       "<table border=\"1\" class=\"dataframe\">\n",
       "  <thead>\n",
       "    <tr style=\"text-align: right;\">\n",
       "      <th></th>\n",
       "      <th>lang_id</th>\n",
       "      <th>text</th>\n",
       "    </tr>\n",
       "  </thead>\n",
       "  <tbody>\n",
       "    <tr>\n",
       "      <th>0</th>\n",
       "      <td>xho</td>\n",
       "      <td>umgaqo-siseko wenza amalungiselelo kumaziko ax...</td>\n",
       "    </tr>\n",
       "    <tr>\n",
       "      <th>1</th>\n",
       "      <td>xho</td>\n",
       "      <td>i-dha iya kuba nobulumko bokubeka umsebenzi na...</td>\n",
       "    </tr>\n",
       "    <tr>\n",
       "      <th>2</th>\n",
       "      <td>eng</td>\n",
       "      <td>the province of kwazulu-natal department of tr...</td>\n",
       "    </tr>\n",
       "    <tr>\n",
       "      <th>3</th>\n",
       "      <td>nso</td>\n",
       "      <td>o netefatša gore o ba file dilo ka moka tše le...</td>\n",
       "    </tr>\n",
       "    <tr>\n",
       "      <th>4</th>\n",
       "      <td>ven</td>\n",
       "      <td>khomishini ya ndinganyiso ya mbeu yo ewa maana...</td>\n",
       "    </tr>\n",
       "  </tbody>\n",
       "</table>\n",
       "</div>"
      ],
      "text/plain": [
       "  lang_id                                               text\n",
       "0     xho  umgaqo-siseko wenza amalungiselelo kumaziko ax...\n",
       "1     xho  i-dha iya kuba nobulumko bokubeka umsebenzi na...\n",
       "2     eng  the province of kwazulu-natal department of tr...\n",
       "3     nso  o netefatša gore o ba file dilo ka moka tše le...\n",
       "4     ven  khomishini ya ndinganyiso ya mbeu yo ewa maana..."
      ]
     },
     "execution_count": 16,
     "metadata": {},
     "output_type": "execute_result"
    }
   ],
   "source": [
    "train.head()"
   ]
  },
  {
   "cell_type": "code",
   "execution_count": 52,
   "id": "f6fc69c8",
   "metadata": {},
   "outputs": [
    {
     "name": "stdout",
     "output_type": "stream",
     "text": [
      "Percentage contribution:\n",
      " xho    9.090909\n",
      "eng    9.090909\n",
      "nso    9.090909\n",
      "ven    9.090909\n",
      "tsn    9.090909\n",
      "nbl    9.090909\n",
      "zul    9.090909\n",
      "ssw    9.090909\n",
      "tso    9.090909\n",
      "sot    9.090909\n",
      "afr    9.090909\n",
      "Name: lang_id, dtype: float64\n"
     ]
    },
    {
     "data": {
      "text/plain": [
       "None"
      ]
     },
     "metadata": {},
     "output_type": "display_data"
    }
   ],
   "source": [
    "# Display target distribution\n",
    "display(\n",
    "    print(\n",
    "        \"Percentage contribution:\\n\", train.lang_id.value_counts(normalize=True) * 100\n",
    "    )\n",
    ")\n"
   ]
  },
  {
   "cell_type": "code",
   "execution_count": 18,
   "id": "fa4da588",
   "metadata": {},
   "outputs": [
    {
     "data": {
      "text/plain": [
       "xho    3000\n",
       "eng    3000\n",
       "nso    3000\n",
       "ven    3000\n",
       "tsn    3000\n",
       "nbl    3000\n",
       "zul    3000\n",
       "ssw    3000\n",
       "tso    3000\n",
       "sot    3000\n",
       "afr    3000\n",
       "Name: lang_id, dtype: int64"
      ]
     },
     "execution_count": 18,
     "metadata": {},
     "output_type": "execute_result"
    }
   ],
   "source": [
    "train.lang_id.value_counts()"
   ]
  },
  {
   "cell_type": "markdown",
   "id": "eff2f477",
   "metadata": {},
   "source": [
    "The barplot below is a representation of the 11 language category and the number of messages in each category. Note that they all have an equal number of messages assigned to them."
   ]
  },
  {
   "cell_type": "code",
   "execution_count": 54,
   "id": "a2e7c12c",
   "metadata": {},
   "outputs": [
    {
     "data": {
      "image/png": "[encoded data removed]",
      "text/plain": [
       "<Figure size 720x720 with 1 Axes>"
      ]
     },
     "metadata": {},
     "output_type": "display_data"
    }
   ],
   "source": [
    "sns.set(font_scale=1.5)\n",
    "fig, ax1 = plt.subplots(figsize=(10,10))\n",
    "graph = sns.countplot(ax=ax1,x='lang_id', data=train)\n",
    "graph.set_xticklabels(graph.get_xticklabels())\n",
    "for p in graph.patches:\n",
    "    height = p.get_height()\n",
    "    graph.text(p.get_x()+p.get_width()/3., height + 0.1,height ,ha=\"center\")\n",
    "    plt.title('Distribution of language class along the train data set')"
   ]
  },
  {
   "cell_type": "code",
   "execution_count": 19,
   "id": "1252ba9a",
   "metadata": {},
   "outputs": [
    {
     "name": "stdout",
     "output_type": "stream",
     "text": [
      "TRAIN DATA\n",
      "=============\n",
      "\n",
      "Shape of the dataset: (33000, 2)\n",
      "\n",
      "Total Number of unique texts: 29948\n",
      "\n",
      "Total Number of missing values:\n",
      "lang_id    0\n",
      "text       0\n",
      "dtype: int64\n",
      "\n",
      "\n",
      "TEST DATA\n",
      "=========\n",
      "\n",
      "Shape of the dataset: (5682, 2)\n",
      "\n",
      "Total Number of unique texts: 5459\n",
      "\n",
      "Total Number of missing values:\n",
      "index    0\n",
      "text     0\n",
      "dtype: int64\n",
      "\n"
     ]
    }
   ],
   "source": [
    "# Taking general overview of both datasets\n",
    "print(\"TRAIN DATA\")\n",
    "print(\"=============\" + (\"\\n\"))\n",
    "print(\"Shape of the dataset: {}\\n\".format(train.shape))\n",
    "print(\"Total Number of unique texts: {}\\n\".format(len(set(train[\"text\"]))))\n",
    "print(\"Total Number of missing values:\\n{}\\n\\n\".format(train.isnull().sum()))\n",
    "\n",
    "print(\"TEST DATA\")\n",
    "print(\"=========\" + (\"\\n\"))\n",
    "print(\"Shape of the dataset: {}\\n\".format(test.shape))\n",
    "print(\"Total Number of unique texts: {}\\n\".format(len(set(test[\"text\"]))))\n",
    "print(\"Total Number of missing values:\\n{}\\n\".format(test.isnull().sum()))"
   ]
  },
  {
   "cell_type": "markdown",
   "id": "bf7014b5",
   "metadata": {},
   "source": [
    "<a id=\"nine\"></a>\n",
    "## 9. Data Engineering\n",
    "<a href=#cont>Back to Table of Contents</a>"
   ]
  },
  {
   "cell_type": "code",
   "execution_count": 55,
   "id": "2941ed05",
   "metadata": {},
   "outputs": [],
   "source": [
    "def clean_text(text):\n",
    "    \"\"\"\n",
    "    This function uses regular expressions to remove html characters,\n",
    "    punctuation, numbers and any extra white space from each text\n",
    "    and then converts them to lowercase.\n",
    "\n",
    "    Input:\n",
    "    text: original text\n",
    "          datatype: string\n",
    "\n",
    "    Output:\n",
    "    texts: modified text\n",
    "           datatype: string\n",
    "    \"\"\"\n",
    "    # replace the html characters with \" \"\n",
    "    text = re.sub(\"<.*?>\", \" \", text)\n",
    "    #     Removal of numbers\n",
    "    #    text = re.sub(r'\\d+', ' ', text)\n",
    "    # will replace newline with space\n",
    "    text = re.sub(\"\\n\", \" \", text)\n",
    "    # will convert to lower case\n",
    "    text = text.lower()\n",
    "    # will split and join the words\n",
    "    text = \" \".join(text.split())\n",
    "    return text"
   ]
  },
  {
   "cell_type": "code",
   "execution_count": 56,
   "id": "990a96c5",
   "metadata": {},
   "outputs": [],
   "source": [
    "# Application of the function to clean the texts\n",
    "train['text'] = train['text'].apply(clean_text)\n",
    "test['text'] = test['text'].apply(clean_text)"
   ]
  },
  {
   "cell_type": "code",
   "execution_count": 57,
   "id": "0aa4fab5",
   "metadata": {},
   "outputs": [
    {
     "name": "stderr",
     "output_type": "stream",
     "text": [
      "C:\\Users\\IZZIES~1\\AppData\\Local\\Temp/ipykernel_4808/2305434871.py:2: FutureWarning: The default value of regex will change from True to False in a future version.\n",
      "  train[\"text\"] = train[\"text\"].str.replace(\".txt\", \" text file\")\n",
      "C:\\Users\\IZZIES~1\\AppData\\Local\\Temp/ipykernel_4808/2305434871.py:3: FutureWarning: The default value of regex will change from True to False in a future version.\n",
      "  test[\"text\"] = test[\"text\"].str.replace(\".txt\", \" text file\")\n"
     ]
    }
   ],
   "source": [
    "# Replace '.txt' with 'text file'\n",
    "train[\"text\"] = train[\"text\"].str.replace(\".txt\", \" text file\")\n",
    "test[\"text\"] = test[\"text\"].str.replace(\".txt\", \" text file\")"
   ]
  },
  {
   "cell_type": "markdown",
   "id": "8f683559",
   "metadata": {},
   "source": [
    "<a id=\"ten\"></a>\n",
    "## 10. Train - Test Split\n",
    "<a href=#cont>Back to Table of Contents</a>"
   ]
  },
  {
   "cell_type": "markdown",
   "id": "27b20719",
   "metadata": {},
   "source": [
    "**Splitting Data into \"X\" and \"y\"**"
   ]
  },
  {
   "cell_type": "code",
   "execution_count": 58,
   "id": "74126d46",
   "metadata": {},
   "outputs": [],
   "source": [
    "X = train['text']\n",
    "y = train['lang_id']"
   ]
  },
  {
   "cell_type": "markdown",
   "id": "32c48172",
   "metadata": {},
   "source": [
    "Allocate the portions of your data that would be used as the train set, the test sat as well as the validation data set"
   ]
  },
  {
   "cell_type": "code",
   "execution_count": 59,
   "id": "97991157",
   "metadata": {},
   "outputs": [],
   "source": [
    "# Assign 10% of your data for use as test data\n",
    "X_train, X_val, y_train, y_val = train_test_split(X, y, test_size=0.10)"
   ]
  },
  {
   "cell_type": "markdown",
   "id": "01579c0b",
   "metadata": {},
   "source": [
    "<a id=\"eleven\"></a>\n",
    "## 11. Model Building\n",
    "<a href=#cont>Back to Table of Contents</a>"
   ]
  },
  {
   "cell_type": "markdown",
   "id": "71e56f27",
   "metadata": {},
   "source": [
    "## Setting up Classifiers for Model Training\n",
    "\n",
    "A classifier is a type of machine learning algorithm used to assign a class label to a data input. For the purpose of this model, we will be using the following classifiers, LogisticRegression, KNeighborsClassifier, MultinomialNB(), ComplementNB(), and SGDClassifier"
   ]
  },
  {
   "cell_type": "code",
   "execution_count": 60,
   "id": "70630efa",
   "metadata": {},
   "outputs": [],
   "source": [
    "\"\"\"\n",
    "Note: Some classifiers were commented out because\n",
    "they run for a very long time, \n",
    "\"\"\"\n",
    "classifiers = [\n",
    "    LogisticRegression(\n",
    "        random_state=42, multi_class=\"ovr\", n_jobs=1, C=1e5, max_iter=4000\n",
    "    ),\n",
    "    KNeighborsClassifier(n_neighbors=5),\n",
    "    MultinomialNB(),\n",
    "    ComplementNB(),\n",
    "    SGDClassifier(\n",
    "        loss=\"hinge\", penalty=\"l2\", alpha=1e-3, random_state=42, max_iter=5, tol=None\n",
    "    ),\n",
    "]\n"
   ]
  },
  {
   "cell_type": "markdown",
   "id": "bb418e53",
   "metadata": {},
   "source": [
    "## Building Models From your  Classifiers\n",
    "\n",
    "The function below builds a model from the classifiers already set up above. "
   ]
  },
  {
   "cell_type": "code",
   "execution_count": 61,
   "id": "4d5795a7",
   "metadata": {},
   "outputs": [],
   "source": [
    "def models_building(classifiers, X_train, y_train, X_val, y_val):\n",
    "    \"\"\"\n",
    "    This function takes in a list of classifiers\n",
    "    and both the train and validation sets\n",
    "    and return a summary of F1-score and\n",
    "    processing time as a dataframe\n",
    "\n",
    "    Input:\n",
    "    classifiers: a list of classifiers to train\n",
    "                 datatype: list\n",
    "    X_train: independent variable for training\n",
    "             datatype: series\n",
    "    y_train: dependent variable for training\n",
    "             datatype: series\n",
    "    X_val: independent variable for validation\n",
    "           datatype: series\n",
    "    y_val: dependent variable for validation\n",
    "           datatype: series\n",
    "\n",
    "    Output:\n",
    "    model_summary: F1 Score for all the classifiers\n",
    "                   datatype: dataframe\n",
    "    \"\"\"\n",
    "\n",
    "    models_summary = {}\n",
    "\n",
    "    # Pipeline to balance the classses and then to build the model\n",
    "    for clf in classifiers:\n",
    "        clf_text = Pipeline(\n",
    "            [\n",
    "                (\"tfidf\", TfidfVectorizer(min_df=1, max_df=0.9, ngram_range=(1, 2))),\n",
    "                (\"clf\", clf),\n",
    "            ]\n",
    "        )\n",
    "\n",
    "        # Logging the Execution Time for each model\n",
    "        start_time = time.time()\n",
    "        clf_text.fit(X_train, y_train)\n",
    "        predictions = clf_text.predict(X_val)\n",
    "        run_time = time.time() - start_time\n",
    "\n",
    "        # Output for each model\n",
    "        models_summary[clf.__class__.__name__] = {\n",
    "            \"F1-Macro\": metrics.f1_score(y_val, predictions, average=\"macro\"),\n",
    "            \"F1-Accuracy\": metrics.f1_score(y_val, predictions, average=\"micro\"),\n",
    "            \"F1-Weighted\": metrics.f1_score(y_val, predictions, average=\"weighted\"),\n",
    "            \"Execution Time\": run_time,\n",
    "        }\n",
    "    return pd.DataFrame.from_dict(models_summary, orient=\"index\")\n"
   ]
  },
  {
   "cell_type": "code",
   "execution_count": 62,
   "id": "f8a509f8",
   "metadata": {},
   "outputs": [
    {
     "data": {
      "text/html": [
       "<div>\n",
       "<style scoped>\n",
       "    .dataframe tbody tr th:only-of-type {\n",
       "        vertical-align: middle;\n",
       "    }\n",
       "\n",
       "    .dataframe tbody tr th {\n",
       "        vertical-align: top;\n",
       "    }\n",
       "\n",
       "    .dataframe thead th {\n",
       "        text-align: right;\n",
       "    }\n",
       "</style>\n",
       "<table border=\"1\" class=\"dataframe\">\n",
       "  <thead>\n",
       "    <tr style=\"text-align: right;\">\n",
       "      <th></th>\n",
       "      <th>F1-Macro</th>\n",
       "      <th>F1-Accuracy</th>\n",
       "      <th>F1-Weighted</th>\n",
       "      <th>Execution Time</th>\n",
       "    </tr>\n",
       "  </thead>\n",
       "  <tbody>\n",
       "    <tr>\n",
       "      <th>MultinomialNB</th>\n",
       "      <td>0.999393</td>\n",
       "      <td>0.999394</td>\n",
       "      <td>0.999394</td>\n",
       "      <td>11.597687</td>\n",
       "    </tr>\n",
       "    <tr>\n",
       "      <th>ComplementNB</th>\n",
       "      <td>0.998788</td>\n",
       "      <td>0.998788</td>\n",
       "      <td>0.998788</td>\n",
       "      <td>12.058562</td>\n",
       "    </tr>\n",
       "    <tr>\n",
       "      <th>LogisticRegression</th>\n",
       "      <td>0.997277</td>\n",
       "      <td>0.997273</td>\n",
       "      <td>0.997273</td>\n",
       "      <td>299.623349</td>\n",
       "    </tr>\n",
       "    <tr>\n",
       "      <th>SGDClassifier</th>\n",
       "      <td>0.986299</td>\n",
       "      <td>0.986364</td>\n",
       "      <td>0.986335</td>\n",
       "      <td>13.521814</td>\n",
       "    </tr>\n",
       "    <tr>\n",
       "      <th>KNeighborsClassifier</th>\n",
       "      <td>0.965564</td>\n",
       "      <td>0.965758</td>\n",
       "      <td>0.965532</td>\n",
       "      <td>17.741993</td>\n",
       "    </tr>\n",
       "  </tbody>\n",
       "</table>\n",
       "</div>"
      ],
      "text/plain": [
       "                      F1-Macro  F1-Accuracy  F1-Weighted  Execution Time\n",
       "MultinomialNB         0.999393     0.999394     0.999394       11.597687\n",
       "ComplementNB          0.998788     0.998788     0.998788       12.058562\n",
       "LogisticRegression    0.997277     0.997273     0.997273      299.623349\n",
       "SGDClassifier         0.986299     0.986364     0.986335       13.521814\n",
       "KNeighborsClassifier  0.965564     0.965758     0.965532       17.741993"
      ]
     },
     "execution_count": 62,
     "metadata": {},
     "output_type": "execute_result"
    }
   ],
   "source": [
    "classifiers_df = models_building(classifiers, X_train, y_train, X_val, y_val)\n",
    "ordered_df = classifiers_df.sort_values('F1-Macro', ascending=False)\n",
    "ordered_df"
   ]
  },
  {
   "cell_type": "code",
   "execution_count": 63,
   "id": "8289a956",
   "metadata": {},
   "outputs": [],
   "source": [
    "# Refining the train-test split for validation\n",
    "X_train, X_val, y_train, y_val = train_test_split(X, y, test_size=0.01)"
   ]
  },
  {
   "cell_type": "code",
   "execution_count": 64,
   "id": "396bbde8",
   "metadata": {},
   "outputs": [
    {
     "name": "stdout",
     "output_type": "stream",
     "text": [
      "              precision    recall  f1-score   support\n",
      "\n",
      "         afr       1.00      1.00      1.00        31\n",
      "         eng       1.00      1.00      1.00        25\n",
      "         nbl       1.00      1.00      1.00        29\n",
      "         nso       1.00      1.00      1.00        32\n",
      "         sot       1.00      1.00      1.00        28\n",
      "         ssw       1.00      1.00      1.00        26\n",
      "         tsn       1.00      1.00      1.00        32\n",
      "         tso       1.00      1.00      1.00        39\n",
      "         ven       1.00      1.00      1.00        35\n",
      "         xho       1.00      1.00      1.00        24\n",
      "         zul       1.00      1.00      1.00        29\n",
      "\n",
      "    accuracy                           1.00       330\n",
      "   macro avg       1.00      1.00      1.00       330\n",
      "weighted avg       1.00      1.00      1.00       330\n",
      "\n"
     ]
    }
   ],
   "source": [
    "# Creating a pipeline for the gridsearch\n",
    "param_grid = {\"alpha\": [0.1, 1, 5, 10]}  # setting parameter grid\n",
    "\n",
    "tuned_mnb = Pipeline(\n",
    "    [\n",
    "        (\"tfidf\", TfidfVectorizer(min_df=2, max_df=0.9, ngram_range=(1, 2))),\n",
    "        (\n",
    "            \"mnb\",\n",
    "            GridSearchCV(\n",
    "                MultinomialNB(),\n",
    "                param_grid=param_grid,\n",
    "                cv=5,\n",
    "                n_jobs=-1,\n",
    "                scoring=\"f1_weighted\",\n",
    "            ),\n",
    "        ),\n",
    "    ]\n",
    ")\n",
    "\n",
    "tuned_mnb.fit(X_train, y_train)  # Fitting the model\n",
    "\n",
    "y_pred_mnb = tuned_mnb.predict(X_val)  # predicting the fit on validation set\n",
    "\n",
    "print(classification_report(y_val, y_pred_mnb))\n"
   ]
  },
  {
   "cell_type": "code",
   "execution_count": 49,
   "id": "f5f75841",
   "metadata": {},
   "outputs": [],
   "source": [
    "submission_df = pd.DataFrame(test['index'])\n",
    "submission_df['lang_id'] = tuned_mnb.predict(test['text'])\n",
    "submission_df.to_csv('Last Submission.csv', index=False)"
   ]
  },
  {
   "cell_type": "markdown",
   "id": "a640be56",
   "metadata": {},
   "source": [
    "## Conclusion"
   ]
  },
  {
   "cell_type": "markdown",
   "id": "830a91d1",
   "metadata": {},
   "source": [
    "Of all the models tried,Multinomial Naive Bayes classifier was the best performing. It performed very well on the training and validation datasets with an accuracy score of over 99% and F1 Macro score of over 99%. After testing the fitted model on the held-out/unseen dataset, it was able to predict the classes of languages with an F1 Score of about almost 97%."
   ]
  },
  {
   "cell_type": "code",
   "execution_count": null,
   "id": "5f85310c",
   "metadata": {},
   "outputs": [],
   "source": []
  }
 ],
 "metadata": {
  "kernelspec": {
   "display_name": "Python 3 (ipykernel)",
   "language": "python",
   "name": "python3"
  },
  "language_info": {
   "codemirror_mode": {
    "name": "ipython",
    "version": 3
   },
   "file_extension": ".py",
   "mimetype": "text/x-python",
   "name": "python",
   "nbconvert_exporter": "python",
   "pygments_lexer": "ipython3",
   "version": "3.9.7"
  }
 },
 "nbformat": 4,
 "nbformat_minor": 5
}
